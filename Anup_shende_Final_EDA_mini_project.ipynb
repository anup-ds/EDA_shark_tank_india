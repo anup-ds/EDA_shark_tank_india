{
 "cells": [
  {
   "cell_type": "code",
   "execution_count": null,
   "id": "4a906339",
   "metadata": {},
   "outputs": [],
   "source": []
  },
  {
   "cell_type": "code",
   "execution_count": null,
   "id": "80016233",
   "metadata": {},
   "outputs": [],
   "source": [
    "import numpy as np\n",
    "import pandas as pd\n",
    "import matplotlib.pyplot as plt\n",
    "import seaborn as sns"
   ]
  },
  {
   "cell_type": "markdown",
   "id": "3e988fbf",
   "metadata": {},
   "source": [
    "### Data Cleaning:"
   ]
  },
  {
   "cell_type": "markdown",
   "id": "582148f8",
   "metadata": {},
   "source": [
    "1.) Check for missing values and handle them appropriately.\n"
   ]
  },
  {
   "cell_type": "code",
   "execution_count": null,
   "id": "154685b4",
   "metadata": {},
   "outputs": [],
   "source": [
    "sti_df = pd.read_excel(\"Mini Project Shark Tank India EDA.xlsx\")"
   ]
  },
  {
   "cell_type": "code",
   "execution_count": null,
   "id": "8dbfef89",
   "metadata": {},
   "outputs": [],
   "source": [
    "# Finding null values \n",
    "sti_df.isnull().sum()"
   ]
  },
  {
   "cell_type": "code",
   "execution_count": null,
   "id": "e939d843",
   "metadata": {},
   "outputs": [],
   "source": [
    "# Found empty string in two columns\n",
    "(sti_df.applymap(lambda x: isinstance(x, str) and x.strip() == '')).sum()\n",
    "# Also using conditional formating"
   ]
  },
  {
   "cell_type": "code",
   "execution_count": null,
   "id": "7cb999e7",
   "metadata": {},
   "outputs": [],
   "source": [
    "# Index positions of empty values in 'deal' column\n",
    "sti_df[sti_df[\"deal\"]== \" \"].index\n",
    "\n",
    "# Replacing with 1 as they got the deal and all other data is available\n",
    "sti_df.loc[[1, 16], 'deal'] = 1"
   ]
  },
  {
   "cell_type": "code",
   "execution_count": null,
   "id": "fbb9dd0a",
   "metadata": {},
   "outputs": [],
   "source": [
    "#  Index positions of empty values in 'equity_per_shark' column\n",
    "sti_df[sti_df[\"equity_per_shark\"]== \" \"].index\n",
    "\n",
    "# Filling index-2 in \"equity_per_shark\" with 15 as total equity is 30 divided between 2 sharks as deal amount is same\n",
    "sti_df.loc[2,\"equity_per_shark\"]= sti_df.loc[2,\"deal_equity\"] /2\n",
    "\n",
    "# Droping the other(index-55) as the company didn't get deal and has empty value \n",
    "sti_df = sti_df.drop(index = 55)"
   ]
  },
  {
   "cell_type": "markdown",
   "id": "6f29f13d",
   "metadata": {},
   "source": [
    "2.)  Identify and handle any duplicate records if present."
   ]
  },
  {
   "cell_type": "code",
   "execution_count": null,
   "id": "11cdf7ae",
   "metadata": {},
   "outputs": [],
   "source": [
    "# Finding duplicates\n",
    "sti_df.duplicated().sum()\n",
    "\n",
    "# viewing those rows\n",
    "sti_df[sti_df.duplicated(keep = False)]"
   ]
  },
  {
   "cell_type": "code",
   "execution_count": null,
   "id": "8b74c171",
   "metadata": {},
   "outputs": [],
   "source": [
    "# Droping duplicates retaining 1 ocurrence\n",
    "sti_df = sti_df.drop_duplicates(keep = \"first\")"
   ]
  },
  {
   "cell_type": "markdown",
   "id": "776eaee2",
   "metadata": {},
   "source": [
    "3.)  Convert data types if necessary."
   ]
  },
  {
   "cell_type": "code",
   "execution_count": null,
   "id": "f829244b",
   "metadata": {},
   "outputs": [],
   "source": [
    "# checking data types\n",
    "sti_df.dtypes\n",
    "\n",
    "# Converting the numeric values as \"object\" to int and float\n",
    "sti_df = sti_df.astype({\"deal\":int ,\"equity_per_shark\":float})"
   ]
  },
  {
   "cell_type": "markdown",
   "id": "e3f73c27",
   "metadata": {},
   "source": [
    "## Analysis"
   ]
  },
  {
   "cell_type": "markdown",
   "id": "b10d097b",
   "metadata": {},
   "source": [
    "#### 1) How many deals were successfully made and what percentage of total pitches did they constitute?\n"
   ]
  },
  {
   "cell_type": "code",
   "execution_count": null,
   "id": "371f7fc0",
   "metadata": {},
   "outputs": [],
   "source": [
    "# Number of successfull deals  (1-> success, 0-> unsuccess)\n",
    "sti_df[\"deal\"].value_counts() # total= 65 deals\n",
    "\n",
    "# Percentage of successfull deals\n",
    "\n",
    "round(((sti_df[\"deal\"].sum()/sti_df.shape[0])*100),3)"
   ]
  },
  {
   "cell_type": "markdown",
   "id": "3934970e",
   "metadata": {},
   "source": [
    "#### 2) What is the average and median deal_amount for pitches that received investment?"
   ]
  },
  {
   "cell_type": "code",
   "execution_count": null,
   "id": "8c4b2301",
   "metadata": {},
   "outputs": [],
   "source": [
    "# one row showed inconsistencies between deal and deal_amount value,  deal->0 and amount-> 100, \n",
    "# means they might have got the deal,indicating input errors. These have been reviewed and corrected."
   ]
  },
  {
   "cell_type": "code",
   "execution_count": null,
   "id": "a4c94534",
   "metadata": {},
   "outputs": [],
   "source": [
    "sti_df[\"deal_amount\"].sum() \n",
    "sti_df[\"deal_amount\"].value_counts()   # Both values Is diffrent from\n",
    "\n",
    "sti_df[(sti_df[\"deal\"] == 1) & (sti_df[\"deal_amount\"] != 0)][\"deal_amount\"].sum()\n",
    "sti_df[(sti_df[\"deal\"] == 1) & (sti_df[\"deal_amount\"] != 0)][\"deal_amount\"].value_counts()\n",
    "\n",
    "# Found this mistake from value_counts of 100\n",
    " sti_df.loc[19,'deal'] = 1 # corrected"
   ]
  },
  {
   "cell_type": "code",
   "execution_count": null,
   "id": "63ecfc52",
   "metadata": {},
   "outputs": [],
   "source": [
    "# Average\n",
    "sti_df[\"deal_amount\"].mean()\n",
    "\n",
    "#Median\n",
    "sti_df[\"deal_amount\"].median()"
   ]
  },
  {
   "cell_type": "markdown",
   "id": "84a9241a",
   "metadata": {},
   "source": [
    "#### 3) Which shark has made the highest number of investments? Provide a visualization of top 3 sharks"
   ]
  },
  {
   "cell_type": "code",
   "execution_count": null,
   "id": "b5d9f977",
   "metadata": {},
   "outputs": [],
   "source": [
    "T3Sh = sti_df[['ashneer_deal', 'anupam_deal', 'aman_deal','namita_deal', 'vineeta_deal', 'peyush_deal', 'ghazal_deal']].sum().sort_values(ascending=False).head(3)\n",
    "\n",
    "plt.bar(T3Sh.index, T3Sh.values, color='skyblue')\n",
    "\n",
    "plt.title('Top 3 Shark by No. of Investments', fontsize=14)\n",
    "plt.xlabel('Sharks', fontsize=12)\n",
    "plt.ylabel('Number of Deals', fontsize=12)\n",
    "plt.xticks(rotation=45)\n",
    "plt.grid(axis='y')\n",
    "\n",
    "plt.show()"
   ]
  },
  {
   "cell_type": "markdown",
   "id": "0eb8c55f",
   "metadata": {},
   "source": [
    "#### 4) What is the total amount invested by all sharks combined in entire season.\n"
   ]
  },
  {
   "cell_type": "code",
   "execution_count": null,
   "id": "66904a46",
   "metadata": {},
   "outputs": [],
   "source": [
    "sti_df['deal_amount'].sum()"
   ]
  },
  {
   "cell_type": "markdown",
   "id": "a4d4e538",
   "metadata": {},
   "source": [
    "#### 5) How does the deal_equity distribution look? Are there any outliers?"
   ]
  },
  {
   "cell_type": "code",
   "execution_count": null,
   "id": "3bd9b152",
   "metadata": {},
   "outputs": [],
   "source": [
    "sns.boxplot(x=sti_df['deal_equity'], color='SkyBlue')\n",
    "plt.title('Boxplot of Deal Equity (%)')\n",
    "plt.xlabel('Equity Percentage')\n",
    "\n",
    "plt.show()"
   ]
  },
  {
   "cell_type": "code",
   "execution_count": null,
   "id": "f015f9e3",
   "metadata": {},
   "outputs": [],
   "source": [
    "Q1 = sti_df[\"deal_equity\"].quantile(0.25)\n",
    "Q3 = sti_df[\"deal_equity\"].quantile(0.75)\n",
    "\n",
    "IQR = Q3 - Q1\n",
    "\n",
    "lower_bound = Q1 - 1.5 * IQR\n",
    "upper_bound = Q3 + 1.5 * IQR\n",
    "\n",
    "outliers = sti_df[(sti_df[\"deal_equity\"]<lower_bound)|(sti_df[\"deal_equity\"]>upper_bound)]"
   ]
  },
  {
   "cell_type": "markdown",
   "id": "71d1ec96",
   "metadata": {},
   "source": [
    "#### 6) Find the correlation between deal_valuation and ask_valuation. What insight can be drawn from this?"
   ]
  },
  {
   "cell_type": "code",
   "execution_count": null,
   "id": "ad3f1000",
   "metadata": {},
   "outputs": [],
   "source": [
    "sti_df[[\"ask_valuation\",\"deal_valuation\"]].corr()\n",
    "#  There is no linear correlation ~0. which means sharks generally don't base their final valuation \n",
    "#  directly on the asking price"
   ]
  },
  {
   "cell_type": "markdown",
   "id": "fbe02c7d",
   "metadata": {},
   "source": [
    "#### 7) What is the average equity percentage given to the sharks per deal?"
   ]
  },
  {
   "cell_type": "code",
   "execution_count": null,
   "id": "33d01069",
   "metadata": {},
   "outputs": [],
   "source": [
    "round(sti_df[sti_df[\"deal\"] == 1][\"equity_per_shark\"].mean(), 3)"
   ]
  },
  {
   "cell_type": "markdown",
   "id": "3bae9807",
   "metadata": {},
   "source": [
    "#### 8) Identify which episode had the highest number of deals and visualize it."
   ]
  },
  {
   "cell_type": "code",
   "execution_count": null,
   "id": "5b992520",
   "metadata": {},
   "outputs": [],
   "source": [
    "deals_per_episod = sti_df[sti_df[\"deal\"] == 1][\"episode_number\"].value_counts()\n",
    "a = deals_per_episod.sort_values(ascending =False).head(5)\n",
    "a"
   ]
  },
  {
   "cell_type": "code",
   "execution_count": null,
   "id": "7283f95d",
   "metadata": {},
   "outputs": [],
   "source": [
    "plt.figure(figsize=(12, 6))\n",
    "plt.bar(a.index, a.values, color='skyblue')\n",
    "plt.title(\"Number of Deals per Episode\")\n",
    "plt.xlabel(\"Episode Number\")\n",
    "plt.ylabel(\"Number of Deals\")\n",
    "plt.xticks(rotation=0)\n",
    "plt.grid(axis='y')\n",
    "\n",
    "plt.show()"
   ]
  },
  {
   "cell_type": "markdown",
   "id": "fbeb5bb4",
   "metadata": {},
   "source": [
    "#### 9) How many pitches asked for more than ₹1 crore and how many of those received investments?"
   ]
  },
  {
   "cell_type": "code",
   "execution_count": null,
   "id": "a6804d1b",
   "metadata": {},
   "outputs": [],
   "source": [
    "# 1) \n",
    "sti_df[sti_df[\"pitcher_ask_amount\"] >= 100]#[\"pitcher_ask_amount\"].count()  <-- #To get exact number\n",
    "\n",
    "# 2) \n",
    "sti_df[(sti_df[\"pitcher_ask_amount\"] >= 100) & (sti_df[\"deal\"] ==1)]#[\"pitcher_ask_amount\"].count()    <-- #To get exact number\n"
   ]
  },
  {
   "cell_type": "markdown",
   "id": "39330039",
   "metadata": {},
   "source": [
    "#### 10) What percentage of pitches involved more than one shark investing together?"
   ]
  },
  {
   "cell_type": "code",
   "execution_count": null,
   "id": "43984a45",
   "metadata": {},
   "outputs": [],
   "source": [
    "multi_shark_deal = sti_df[(sti_df[\"deal\"] == 1) & (sti_df[\"total_sharks_invested\"] > 1)].shape[0]\n",
    "\n",
    "total_shark_deal = sti_df[sti_df[\"total_sharks_invested\"] >= 1].shape[0]\n",
    "\n",
    "print(f\"{round(((multi_shark_deal/total_shark_deal)*100),2)} %\")"
   ]
  },
  {
   "cell_type": "code",
   "execution_count": null,
   "id": "9b2ab0d5",
   "metadata": {},
   "outputs": [],
   "source": [
    "# Found a row with input error in deal as(\"1\") but didn't got the deal or there was no details about the deal\n",
    "# So it needs to be reviewed and should be deleted or complete the data\n",
    "\n",
    "sti_df[(sti_df[\"deal\"] == 1) != (sti_df[\"total_sharks_invested\"] >= 1)]"
   ]
  },
  {
   "cell_type": "markdown",
   "id": "8cca0c02",
   "metadata": {},
   "source": [
    "#### 11) How does the investment behavior of Ashneer Grover compare with Peyush Bansal in terms of total amount invested?"
   ]
  },
  {
   "cell_type": "code",
   "execution_count": null,
   "id": "df058955",
   "metadata": {},
   "outputs": [],
   "source": [
    "ashneer_deal = sti_df[sti_df[\"ashneer_deal\"] == 1][\"amount_per_shark\"].sum()\n",
    "peyush_deal = sti_df[sti_df[\"peyush_deal\"] == 1][\"amount_per_shark\"].sum()\n",
    "\n",
    "amounts = [ashneer, peyush]\n",
    "labels = [f'Ashneer\\n₹{round(ashneer,2)}L', f'Peyush\\n₹{round(peyush,2)}L']\n",
    "colors = ['orange', 'skyblue']\n",
    "\n",
    "plt.pie(amounts, labels=labels,autopct='%1.1f%%', colors=colors, startangle=140)\n",
    "plt.title(\"Investment Amounts: Ashneer vs Peyush\")\n",
    "\n",
    "plt.show()\n"
   ]
  },
  {
   "cell_type": "markdown",
   "id": "d49e3293",
   "metadata": {},
   "source": [
    "#### 12) Create a box plot to analyze amount_per_shark. What insights can be gathered?"
   ]
  },
  {
   "cell_type": "code",
   "execution_count": null,
   "id": "c28deae8",
   "metadata": {},
   "outputs": [],
   "source": [
    "\n",
    "plt.boxplot(sti_df[\"amount_per_shark\"], vert=False, patch_artist=True)\n",
    "plt.title(\"Boxplot of Amount per Shark\")\n",
    "plt.xlabel(\"Amount\")\n",
    "plt.grid(axis='x')\n",
    "plt.show()\n",
    "\n",
    "\n",
    "# The median is closer to the lower quartile (Q1), and the right whisker is longer which suggests right-skewed data\n",
    "# We can say most sharks invest smaller amounts, but a few invest very large amounts\n",
    "# You can clearly see several outliers beyond the upper whisker\n",
    "# These outliers are large investment amounts — possibly ₹60L, ₹75L, ₹100L etc."
   ]
  },
  {
   "cell_type": "markdown",
   "id": "31e2de7f",
   "metadata": {},
   "source": [
    "#### 13) Are there any cases where the deal_amount exceeded the pitcher_ask_amount? If yes, list those cases."
   ]
  },
  {
   "cell_type": "code",
   "execution_count": null,
   "id": "c56222f1",
   "metadata": {},
   "outputs": [],
   "source": [
    "sti_df[sti_df[\"pitcher_ask_amount\"] < sti_df[\"deal_amount\"]][[\"brand_name\",\"pitcher_ask_amount\",\"deal_amount\"]]"
   ]
  },
  {
   "cell_type": "markdown",
   "id": "66d952ae",
   "metadata": {},
   "source": [
    "#### 14) Which shark has the highest return on investment (ROI) based on deal_amount vs. deal_equity?"
   ]
  },
  {
   "cell_type": "code",
   "execution_count": null,
   "id": "0d56a9ce",
   "metadata": {},
   "outputs": [],
   "source": [
    "sti_df[\"initial_equity_value\"] = (sti_df[\"deal_equity\"] / 100) * sti_df[\"deal_valuation\"]\n",
    "sti_df[\"roi_initial\"] = (sti_df[\"initial_equity_value\"] / sti_df[\"deal_amount\"]) - 1\n",
    "\n",
    "\n",
    "sharks = ['ashneer_deal', 'anupam_deal', 'aman_deal', 'namita_deal',\n",
    "          'vineeta_deal', 'peyush_deal', 'ghazal_deal']\n",
    "\n",
    "\n",
    "roi_per_shark = {}\n",
    "\n",
    "for shark in sharks:\n",
    "    shark_df = sti_df[sti_df[shark] == 1]\n",
    "    max_roi = shark_df[\"roi_initial\"].max()\n",
    "    roi_per_shark[shark.replace(\"_deal\", \"\").capitalize()] = round(max_roi, 2)\n",
    "\n",
    "\n",
    "sorted_roi = dict(sorted(roi_per_shark.items(), key=lambda item: item[1], reverse=True))\n",
    "\n",
    "for shark, roi in sorted_roi.items():\n",
    "    print(f\"{shark}: Max ROI ={roi*100}%\")\n"
   ]
  },
  {
   "cell_type": "markdown",
   "id": "3dce54e3",
   "metadata": {},
   "source": [
    "#### 15) Identify trends in equity distribution—are sharks investing in lower or higher equity stakes over time?"
   ]
  },
  {
   "cell_type": "code",
   "execution_count": null,
   "id": "0e5a59aa",
   "metadata": {},
   "outputs": [],
   "source": [
    "sns.scatterplot(data=sti_df, x='episode_number', y='deal_equity', color='darkred')\n",
    "plt.title('Trend of Deal Equity Over Time(Episodes)')\n",
    "plt.xlabel('Episode Number')\n",
    "plt.ylabel('Deal Equity (%)')\n",
    "plt.grid(True)\n",
    "\n",
    "plt.show()\n",
    "\n",
    "# this chart shows no consistent trend of increasing or decreasing. Most deals are concentrated below 25%, \n",
    "# indicating a preference for minority stakes by shark"
   ]
  },
  {
   "cell_type": "markdown",
   "id": "13a68dc3",
   "metadata": {},
   "source": [
    "#### 16) What is the relationship between pitcher_ask_amount and deal_amount? Do pitchers who ask for less tend to secure more deals?"
   ]
  },
  {
   "cell_type": "code",
   "execution_count": null,
   "id": "26075353",
   "metadata": {},
   "outputs": [],
   "source": [
    "sns.scatterplot(data=sti_df[sti_df[\"deal\"]==1], x='pitcher_ask_amount', y='deal_amount', color='darkblue')\n",
    "plt.title('Pitcher Ask Amount vs Deal Amount')\n",
    "plt.xlabel('Pitcher Ask Amount (in Lakhs)')\n",
    "plt.ylabel('Deal Amount (in Lakhs)')\n",
    "plt.grid(True)\n",
    "\n",
    "plt.show()\n"
   ]
  },
  {
   "cell_type": "markdown",
   "id": "48f34265",
   "metadata": {},
   "source": [
    "#### 17) Identify if there is a pattern in episode-wise deal closures—do certain episodes see more investments?"
   ]
  },
  {
   "cell_type": "code",
   "execution_count": null,
   "id": "bb080fe7",
   "metadata": {},
   "outputs": [],
   "source": [
    "episode_deal_counts = sti_df[sti_df[\"deal\"] == 1][\"episode_number\"].value_counts().sort_index()\n",
    "\n",
    "episode_deal_counts.plot(kind='bar', color='lightgreen')\n",
    "plt.title('Number of Deals per Episode')\n",
    "plt.xlabel('Episode Number')\n",
    "plt.ylabel('Number of Deals')\n",
    "plt.grid(axis='y')\n",
    "\n",
    "plt.show()"
   ]
  },
  {
   "cell_type": "markdown",
   "id": "1db1cf69",
   "metadata": {},
   "source": [
    "#### 18) Analyze the impact of equity dilution on deal_valuation. Are lower equity asks leading to higher deal valuations"
   ]
  },
  {
   "cell_type": "code",
   "execution_count": null,
   "id": "53f6deed",
   "metadata": {},
   "outputs": [],
   "source": [
    "sns.scatterplot(data=sti_df[sti_df[\"deal_equity\"] >0], x='deal_equity', y='deal_valuation', color='darkblue')\n",
    "plt.title('Equity Dilution vs Deal Valuation')\n",
    "plt.xlabel('Equity %')\n",
    "plt.ylabel('Deal Valuation')\n",
    "plt.grid(True)\n",
    "\n",
    "plt.show()"
   ]
  }
 ],
 "metadata": {
  "kernelspec": {
   "display_name": "Python 3 (ipykernel)",
   "language": "python",
   "name": "python3"
  },
  "language_info": {
   "codemirror_mode": {
    "name": "ipython",
    "version": 3
   },
   "file_extension": ".py",
   "mimetype": "text/x-python",
   "name": "python",
   "nbconvert_exporter": "python",
   "pygments_lexer": "ipython3",
   "version": "3.10.9"
  }
 },
 "nbformat": 4,
 "nbformat_minor": 5
}
